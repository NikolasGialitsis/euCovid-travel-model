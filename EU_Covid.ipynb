{
  "nbformat": 4,
  "nbformat_minor": 0,
  "metadata": {
    "colab": {
      "name": "EU_Covid.ipynb",
      "provenance": [],
      "collapsed_sections": [],
      "authorship_tag": "ABX9TyPESkYydAypfu1Msyw/r44Q",
      "include_colab_link": true
    },
    "kernelspec": {
      "name": "python3",
      "display_name": "Python 3"
    }
  },
  "cells": [
    {
      "cell_type": "markdown",
      "metadata": {
        "id": "view-in-github",
        "colab_type": "text"
      },
      "source": [
        "<a href=\"https://colab.research.google.com/github/NikolasGialitsis/euCovid-travel-model/blob/master/EU_Covid.ipynb\" target=\"_parent\"><img src=\"https://colab.research.google.com/assets/colab-badge.svg\" alt=\"Open In Colab\"/></a>"
      ]
    },
    {
      "cell_type": "code",
      "metadata": {
        "id": "hYIYJUonUPWH",
        "colab_type": "code",
        "colab": {
          "base_uri": "https://localhost:8080/",
          "height": 127
        },
        "outputId": "182dd3e8-5044-4be1-c3cd-a477307ee101"
      },
      "source": [
        "!git clone https://github.com/NikolasGialitsis/euCovid-travel-model"
      ],
      "execution_count": 1,
      "outputs": [
        {
          "output_type": "stream",
          "text": [
            "Cloning into 'euCovid-travel-model'...\n",
            "remote: Enumerating objects: 87, done.\u001b[K\n",
            "remote: Counting objects:   1% (1/87)\u001b[K\rremote: Counting objects:   2% (2/87)\u001b[K\rremote: Counting objects:   3% (3/87)\u001b[K\rremote: Counting objects:   4% (4/87)\u001b[K\rremote: Counting objects:   5% (5/87)\u001b[K\rremote: Counting objects:   6% (6/87)\u001b[K\rremote: Counting objects:   8% (7/87)\u001b[K\rremote: Counting objects:   9% (8/87)\u001b[K\rremote: Counting objects:  10% (9/87)\u001b[K\rremote: Counting objects:  11% (10/87)\u001b[K\rremote: Counting objects:  12% (11/87)\u001b[K\rremote: Counting objects:  13% (12/87)\u001b[K\rremote: Counting objects:  14% (13/87)\u001b[K\rremote: Counting objects:  16% (14/87)\u001b[K\rremote: Counting objects:  17% (15/87)\u001b[K\rremote: Counting objects:  18% (16/87)\u001b[K\rremote: Counting objects:  19% (17/87)\u001b[K\rremote: Counting objects:  20% (18/87)\u001b[K\rremote: Counting objects:  21% (19/87)\u001b[K\rremote: Counting objects:  22% (20/87)\u001b[K\rremote: Counting objects:  24% (21/87)\u001b[K\rremote: Counting objects:  25% (22/87)\u001b[K\rremote: Counting objects:  26% (23/87)\u001b[K\rremote: Counting objects:  27% (24/87)\u001b[K\rremote: Counting objects:  28% (25/87)\u001b[K\rremote: Counting objects:  29% (26/87)\u001b[K\rremote: Counting objects:  31% (27/87)\u001b[K\rremote: Counting objects:  32% (28/87)\u001b[K\rremote: Counting objects:  33% (29/87)\u001b[K\rremote: Counting objects:  34% (30/87)\u001b[K\rremote: Counting objects:  35% (31/87)\u001b[K\rremote: Counting objects:  36% (32/87)\u001b[K\rremote: Counting objects:  37% (33/87)\u001b[K\rremote: Counting objects:  39% (34/87)\u001b[K\rremote: Counting objects:  40% (35/87)\u001b[K\rremote: Counting objects:  41% (36/87)\u001b[K\rremote: Counting objects:  42% (37/87)\u001b[K\rremote: Counting objects:  43% (38/87)\u001b[K\rremote: Counting objects:  44% (39/87)\u001b[K\rremote: Counting objects:  45% (40/87)\u001b[K\rremote: Counting objects:  47% (41/87)\u001b[K\rremote: Counting objects:  48% (42/87)\u001b[K\rremote: Counting objects:  49% (43/87)\u001b[K\rremote: Counting objects:  50% (44/87)\u001b[K\rremote: Counting objects:  51% (45/87)\u001b[K\rremote: Counting objects:  52% (46/87)\u001b[K\rremote: Counting objects:  54% (47/87)\u001b[K\rremote: Counting objects:  55% (48/87)\u001b[K\rremote: Counting objects:  56% (49/87)\u001b[K\rremote: Counting objects:  57% (50/87)\u001b[K\rremote: Counting objects:  58% (51/87)\u001b[K\rremote: Counting objects:  59% (52/87)\u001b[K\rremote: Counting objects:  60% (53/87)\u001b[K\rremote: Counting objects:  62% (54/87)\u001b[K\rremote: Counting objects:  63% (55/87)\u001b[K\rremote: Counting objects:  64% (56/87)\u001b[K\rremote: Counting objects:  65% (57/87)\u001b[K\rremote: Counting objects:  66% (58/87)\u001b[K\rremote: Counting objects:  67% (59/87)\u001b[K\rremote: Counting objects:  68% (60/87)\u001b[K\rremote: Counting objects:  70% (61/87)\u001b[K\rremote: Counting objects:  71% (62/87)\u001b[K\rremote: Counting objects:  72% (63/87)\u001b[K\rremote: Counting objects:  73% (64/87)\u001b[K\rremote: Counting objects:  74% (65/87)\u001b[K\rremote: Counting objects:  75% (66/87)\u001b[K\rremote: Counting objects:  77% (67/87)\u001b[K\rremote: Counting objects:  78% (68/87)\u001b[K\rremote: Counting objects:  79% (69/87)\u001b[K\rremote: Counting objects:  80% (70/87)\u001b[K\rremote: Counting objects:  81% (71/87)\u001b[K\rremote: Counting objects:  82% (72/87)\u001b[K\rremote: Counting objects:  83% (73/87)\u001b[K\rremote: Counting objects:  85% (74/87)\u001b[K\rremote: Counting objects:  86% (75/87)\u001b[K\rremote: Counting objects:  87% (76/87)\u001b[K\rremote: Counting objects:  88% (77/87)\u001b[K\rremote: Counting objects:  89% (78/87)\u001b[K\rremote: Counting objects:  90% (79/87)\u001b[K\rremote: Counting objects:  91% (80/87)\u001b[K\rremote: Counting objects:  93% (81/87)\u001b[K\rremote: Counting objects:  94% (82/87)\u001b[K\rremote: Counting objects:  95% (83/87)\u001b[K\rremote: Counting objects:  96% (84/87)\u001b[K\rremote: Counting objects:  97% (85/87)\u001b[K\rremote: Counting objects:  98% (86/87)\u001b[K\rremote: Counting objects: 100% (87/87)\u001b[K\rremote: Counting objects: 100% (87/87), done.\u001b[K\n",
            "remote: Compressing objects: 100% (80/80), done.\u001b[K\n",
            "remote: Total 87 (delta 15), reused 69 (delta 7), pack-reused 0\u001b[K\n",
            "Unpacking objects: 100% (87/87), done.\n"
          ],
          "name": "stdout"
        }
      ]
    },
    {
      "cell_type": "code",
      "metadata": {
        "id": "8GuZXzutmXTU",
        "colab_type": "code",
        "colab": {
          "base_uri": "https://localhost:8080/",
          "height": 54
        },
        "outputId": "90a6a62e-8c35-4c51-8cc7-6ed235813c57"
      },
      "source": [
        "!pip install python-copasi\n",
        "%cd /content/euCovid-travel-model/generating"
      ],
      "execution_count": 11,
      "outputs": [
        {
          "output_type": "stream",
          "text": [
            "Requirement already satisfied: python-copasi in /usr/local/lib/python3.6/dist-packages (4.28.226)\n",
            "/content/euCovid-travel-model/generating\n"
          ],
          "name": "stdout"
        }
      ]
    },
    {
      "cell_type": "code",
      "metadata": {
        "id": "fbL6xOwwV29W",
        "colab_type": "code",
        "colab": {}
      },
      "source": [
        "!mv /content/euCovid-travel-model/EU_expand_model.py /content/euCovid-travel-model/generating"
      ],
      "execution_count": 9,
      "outputs": []
    },
    {
      "cell_type": "code",
      "metadata": {
        "id": "a4F9BjYJnB8s",
        "colab_type": "code",
        "colab": {
          "base_uri": "https://localhost:8080/",
          "height": 368
        },
        "outputId": "0fcff0b6-9b2c-4199-e2f9-a98802568813"
      },
      "source": [
        "!python /content/euCovid-travel-model/generating/EU_expand_model.py /content/euCovid-travel-model/generating/SEIR_base.cps eu_usa.cps"
      ],
      "execution_count": 14,
      "outputs": [
        {
          "output_type": "stream",
          "text": [
            "abrev: {'GR': 0, 'IT': 1, 'BU': 2}\n",
            "tcmalloc: large alloc 1449377792 bytes == 0x1e54000 @  0x7f75c2b22001 0x582743 0x582af3 0x50d164 0x507d64 0x509a90 0x50a48d 0x50bfb4 0x507d64 0x50ae13 0x634c82 0x634d37 0x6384ef 0x639091 0x4b0d00 0x7f75c271db97 0x5b250a\n",
            "compartment name =  COVID_GR\n",
            "state_abrev =  GR\n",
            "GR 0\n",
            "state flux =  [{0: 0.1, 1: 0.005, 2: 0.01}, {0: 0.1, 1: 0.0001, 2: 0.002}]\n",
            "compartment name =  COVID_IT\n",
            "state_abrev =  IT\n",
            "IT 1\n",
            "state flux =  [{0: 0.0001, 1: 0.02, 2: 0.0025}, {0: 0.005, 1: 0.02, 2: 0.0005}]\n",
            "compartment name =  COVID_BU\n",
            "state_abrev =  BU\n",
            "BU 2\n",
            "state flux =  [{0: 0.002, 1: 0.0005, 2: 0.006666666666666667}, {0: 0.01, 1: 0.0025, 2: 0.006666666666666667}]\n",
            "Number of assigments = 12\n",
            "\n",
            "Number of assigments = 12\n",
            "\n"
          ],
          "name": "stdout"
        }
      ]
    },
    {
      "cell_type": "code",
      "metadata": {
        "id": "qvtEpCQ3g1wl",
        "colab_type": "code",
        "colab": {
          "base_uri": "https://localhost:8080/",
          "height": 182
        },
        "outputId": "e03a2028-3610-4552-b6a3-d4cf22943ad0"
      },
      "source": [
        "%cd /content/\n",
        "!kaggle datasets download -d shahules/european-countries-population"
      ],
      "execution_count": 15,
      "outputs": [
        {
          "output_type": "stream",
          "text": [
            "/content\n",
            "Traceback (most recent call last):\n",
            "  File \"/usr/local/bin/kaggle\", line 5, in <module>\n",
            "    from kaggle.cli import main\n",
            "  File \"/usr/local/lib/python2.7/dist-packages/kaggle/__init__.py\", line 23, in <module>\n",
            "    api.authenticate()\n",
            "  File \"/usr/local/lib/python2.7/dist-packages/kaggle/api/kaggle_api_extended.py\", line 146, in authenticate\n",
            "    self.config_file, self.config_dir))\n",
            "IOError: Could not find kaggle.json. Make sure it's located in /root/.kaggle. Or use the environment method.\n"
          ],
          "name": "stdout"
        }
      ]
    },
    {
      "cell_type": "code",
      "metadata": {
        "id": "K5Y4ajr_gBz4",
        "colab_type": "code",
        "colab": {
          "base_uri": "https://localhost:8080/",
          "height": 184
        },
        "outputId": "96cc3cd9-7c93-4a54-8d9c-e11f8f623e31"
      },
      "source": [
        "%matplotlib inline\n",
        "import matplotlib.pyplot as plt\n",
        "import sys\n",
        "import os\n",
        "import numpy as np\n",
        "import pandas as pd\n",
        "from sklearn import datasets, linear_model\n",
        "from random import sample \n",
        "from google.colab import drive\n",
        "\n",
        "def bash_collect_data():\n",
        "  sys.path.append('/usr/local/lib/python3.7/site-packages/')\n",
        "  drive.mount('/content/drive')\n",
        "  os.environ['KAGGLE_CONFIG_DIR'] = \"/content/drive/My Drive/Colab Notebooks/.kaggle/\"\n",
        "  !kaggle datasets download -d sudalairajkumar/novel-corona-virus-2019-dataset\n",
        "  !kaggle datasets download -d duvallwh/us-asia-and-europe-population-and-area-data\n",
        "  !unzip /content/european-countries-population.zip\n",
        "  !unzip /content/novel-corona-virus-2019-dataset.zip\n",
        "  !unzip /content/us-asia-and-europe-population-and-area-data.zip\n",
        "#bash_collect_data()\n",
        "\n",
        "\n",
        "def PopsAreas2dict(fn='/content/area_pop_data.csv'):\n",
        "    df = pd.read_csv(fn)\n",
        "    df = df[df['region'] == 'Europe']\n",
        "    print(df.columns)\n",
        "    areas = {}\n",
        "    pops = {}\n",
        "    for row in df.iterrows():\n",
        "      name = row[1]['country'].upper()\n",
        "      name = name.split(' ')[0]\n",
        "      area = row[1]['area_km']\n",
        "      pop = row[1]['population']\n",
        "      if name not in areas.keys():\n",
        "        areas[name] = area\n",
        "        pops[name] = pop\n",
        "      else:\n",
        "        areas[name] += area \n",
        "        pops[name] += pop\n",
        "    return pops,areas\n",
        "\n",
        "def CovidCountry(fn):\n",
        "  confirmed_df = pd.read_csv(fn)\n",
        "  confirmed_df = confirmed_df.drop(labels=['Lat','Long'],axis='columns')\n",
        "  #confirmed_df = \n",
        "  print(confirmed_df.columns)\n",
        "\n",
        "\n",
        "pops,areas =  PopsAreas2dict('/content/area_pop_data.csv')\n",
        "print(pops)\n",
        "\n",
        "CovidCountry('/content/time_series_covid_19_confirmed.csv')\n",
        "\n"
      ],
      "execution_count": 48,
      "outputs": [
        {
          "output_type": "stream",
          "text": [
            "Index(['Unnamed: 0', 'region', 'country', 'province', 'area_km', 'population'], dtype='object')\n",
            "{'ALBANIA': 2862427.0, 'ANDORRA': 85082.0, 'ARMENIA': 3018854.0, 'AUSTRIA': 8504850.0, 'AZERBAIJAN': 9754830.0, 'BELARUS': 9475100.0, 'BELGIUM': 11198638.0, 'BOSNIA': 3301000.0, 'BULGARIA': 7364570.0, 'CROATIA': 4284889.0, 'CYPRUS': 1117000.0, 'CZECH': 10513209.0, 'DENMARK': 5655750.0, 'ESTONIA': 1324820.0, 'FAROE': 49709.0, 'FINLAND': 5470820.0, 'FRANCE': 67210000.0, 'GEORGIA': 3729000.0, 'GERMANY': 80716000.0, 'GIBRALTAR': 30001.0, 'GREECE': 10816286.0, 'GUERNSEY': 65345.0, 'HUNGARY': 9877365.0, 'ICELAND': 325671.0, 'REPUBLIC': 4609600.0, 'ISLE': 84497.0, 'ITALY': 60782668.0, 'JERSEY': 97857.0, 'KAZAKHSTAN': 17987736.0, 'KOSOVO': 1859203.0, 'LATVIA': 1990300.0, 'LIECHTENSTEIN': 37132.0, 'LITHUANIA': 2944459.0, 'LUXEMBOURG': 549680.0, 'MALTA': 446547.0, 'MOLDOVA': 2681735.0, 'MONACO': 36371.0, 'MONTENEGRO': 647905.0, 'NETHERLANDS': 16856620.0, 'NORTH': 2058539.0, 'NORWAY': nan, 'POLAND': 38483957.0, 'PORTUGAL': 10427301.0, 'ROMANIA': 19942642.0, 'RUSSIA': 143700000.0, 'SAN': 32576.0, 'SERBIA': 7041599.0, 'SLOVAKIA': 5415949.0, 'SLOVENIA': 2061085.0, 'SPAIN': 47100396.0, 'MAYEN': 2868.0, 'SWEDEN': 10004962.0, 'SWITZERLAND': 8183800.0, 'TRANSNISTRIA': 505000.0, 'TURKEY': 79814871.0, 'UKRAINE': 37541693.0, 'UNITED': 64100000.0, 'VATICAN': 842.0, 'ÅLAND': 28666.0}\n",
            "Index(['Province/State', 'Country/Region', '1/22/20', '1/23/20', '1/24/20',\n",
            "       '1/25/20', '1/26/20', '1/27/20', '1/28/20', '1/29/20',\n",
            "       ...\n",
            "       '6/19/20', '6/20/20', '6/21/20', '6/22/20', '6/23/20', '6/24/20',\n",
            "       '6/25/20', '6/26/20', '6/27/20', '6/28/20'],\n",
            "      dtype='object', length=161)\n"
          ],
          "name": "stdout"
        }
      ]
    },
    {
      "cell_type": "code",
      "metadata": {
        "id": "PgdxOWe9iLaA",
        "colab_type": "code",
        "colab": {}
      },
      "source": [
        ""
      ],
      "execution_count": null,
      "outputs": []
    }
  ]
}