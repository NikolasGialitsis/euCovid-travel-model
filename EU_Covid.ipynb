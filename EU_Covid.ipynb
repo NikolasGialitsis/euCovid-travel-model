{
  "nbformat": 4,
  "nbformat_minor": 0,
  "metadata": {
    "colab": {
      "name": "EU_Covid.ipynb",
      "provenance": [],
      "collapsed_sections": [],
      "authorship_tag": "ABX9TyPQeK1rR/pCYxDtOeC2arfK",
      "include_colab_link": true
    },
    "kernelspec": {
      "name": "python3",
      "display_name": "Python 3"
    }
  },
  "cells": [
    {
      "cell_type": "markdown",
      "metadata": {
        "id": "view-in-github",
        "colab_type": "text"
      },
      "source": [
        "<a href=\"https://colab.research.google.com/github/NikolasGialitsis/euCovid-travel-model/blob/master/EU_Covid.ipynb\" target=\"_parent\"><img src=\"https://colab.research.google.com/assets/colab-badge.svg\" alt=\"Open In Colab\"/></a>"
      ]
    },
    {
      "cell_type": "code",
      "metadata": {
        "id": "hYIYJUonUPWH",
        "colab_type": "code",
        "colab": {
          "base_uri": "https://localhost:8080/",
          "height": 127
        },
        "outputId": "182dd3e8-5044-4be1-c3cd-a477307ee101"
      },
      "source": [
        "!git clone https://github.com/NikolasGialitsis/euCovid-travel-model"
      ],
      "execution_count": 1,
      "outputs": [
        {
          "output_type": "stream",
          "text": [
            "Cloning into 'euCovid-travel-model'...\n",
            "remote: Enumerating objects: 87, done.\u001b[K\n",
            "remote: Counting objects:   1% (1/87)\u001b[K\rremote: Counting objects:   2% (2/87)\u001b[K\rremote: Counting objects:   3% (3/87)\u001b[K\rremote: Counting objects:   4% (4/87)\u001b[K\rremote: Counting objects:   5% (5/87)\u001b[K\rremote: Counting objects:   6% (6/87)\u001b[K\rremote: Counting objects:   8% (7/87)\u001b[K\rremote: Counting objects:   9% (8/87)\u001b[K\rremote: Counting objects:  10% (9/87)\u001b[K\rremote: Counting objects:  11% (10/87)\u001b[K\rremote: Counting objects:  12% (11/87)\u001b[K\rremote: Counting objects:  13% (12/87)\u001b[K\rremote: Counting objects:  14% (13/87)\u001b[K\rremote: Counting objects:  16% (14/87)\u001b[K\rremote: Counting objects:  17% (15/87)\u001b[K\rremote: Counting objects:  18% (16/87)\u001b[K\rremote: Counting objects:  19% (17/87)\u001b[K\rremote: Counting objects:  20% (18/87)\u001b[K\rremote: Counting objects:  21% (19/87)\u001b[K\rremote: Counting objects:  22% (20/87)\u001b[K\rremote: Counting objects:  24% (21/87)\u001b[K\rremote: Counting objects:  25% (22/87)\u001b[K\rremote: Counting objects:  26% (23/87)\u001b[K\rremote: Counting objects:  27% (24/87)\u001b[K\rremote: Counting objects:  28% (25/87)\u001b[K\rremote: Counting objects:  29% (26/87)\u001b[K\rremote: Counting objects:  31% (27/87)\u001b[K\rremote: Counting objects:  32% (28/87)\u001b[K\rremote: Counting objects:  33% (29/87)\u001b[K\rremote: Counting objects:  34% (30/87)\u001b[K\rremote: Counting objects:  35% (31/87)\u001b[K\rremote: Counting objects:  36% (32/87)\u001b[K\rremote: Counting objects:  37% (33/87)\u001b[K\rremote: Counting objects:  39% (34/87)\u001b[K\rremote: Counting objects:  40% (35/87)\u001b[K\rremote: Counting objects:  41% (36/87)\u001b[K\rremote: Counting objects:  42% (37/87)\u001b[K\rremote: Counting objects:  43% (38/87)\u001b[K\rremote: Counting objects:  44% (39/87)\u001b[K\rremote: Counting objects:  45% (40/87)\u001b[K\rremote: Counting objects:  47% (41/87)\u001b[K\rremote: Counting objects:  48% (42/87)\u001b[K\rremote: Counting objects:  49% (43/87)\u001b[K\rremote: Counting objects:  50% (44/87)\u001b[K\rremote: Counting objects:  51% (45/87)\u001b[K\rremote: Counting objects:  52% (46/87)\u001b[K\rremote: Counting objects:  54% (47/87)\u001b[K\rremote: Counting objects:  55% (48/87)\u001b[K\rremote: Counting objects:  56% (49/87)\u001b[K\rremote: Counting objects:  57% (50/87)\u001b[K\rremote: Counting objects:  58% (51/87)\u001b[K\rremote: Counting objects:  59% (52/87)\u001b[K\rremote: Counting objects:  60% (53/87)\u001b[K\rremote: Counting objects:  62% (54/87)\u001b[K\rremote: Counting objects:  63% (55/87)\u001b[K\rremote: Counting objects:  64% (56/87)\u001b[K\rremote: Counting objects:  65% (57/87)\u001b[K\rremote: Counting objects:  66% (58/87)\u001b[K\rremote: Counting objects:  67% (59/87)\u001b[K\rremote: Counting objects:  68% (60/87)\u001b[K\rremote: Counting objects:  70% (61/87)\u001b[K\rremote: Counting objects:  71% (62/87)\u001b[K\rremote: Counting objects:  72% (63/87)\u001b[K\rremote: Counting objects:  73% (64/87)\u001b[K\rremote: Counting objects:  74% (65/87)\u001b[K\rremote: Counting objects:  75% (66/87)\u001b[K\rremote: Counting objects:  77% (67/87)\u001b[K\rremote: Counting objects:  78% (68/87)\u001b[K\rremote: Counting objects:  79% (69/87)\u001b[K\rremote: Counting objects:  80% (70/87)\u001b[K\rremote: Counting objects:  81% (71/87)\u001b[K\rremote: Counting objects:  82% (72/87)\u001b[K\rremote: Counting objects:  83% (73/87)\u001b[K\rremote: Counting objects:  85% (74/87)\u001b[K\rremote: Counting objects:  86% (75/87)\u001b[K\rremote: Counting objects:  87% (76/87)\u001b[K\rremote: Counting objects:  88% (77/87)\u001b[K\rremote: Counting objects:  89% (78/87)\u001b[K\rremote: Counting objects:  90% (79/87)\u001b[K\rremote: Counting objects:  91% (80/87)\u001b[K\rremote: Counting objects:  93% (81/87)\u001b[K\rremote: Counting objects:  94% (82/87)\u001b[K\rremote: Counting objects:  95% (83/87)\u001b[K\rremote: Counting objects:  96% (84/87)\u001b[K\rremote: Counting objects:  97% (85/87)\u001b[K\rremote: Counting objects:  98% (86/87)\u001b[K\rremote: Counting objects: 100% (87/87)\u001b[K\rremote: Counting objects: 100% (87/87), done.\u001b[K\n",
            "remote: Compressing objects: 100% (80/80), done.\u001b[K\n",
            "remote: Total 87 (delta 15), reused 69 (delta 7), pack-reused 0\u001b[K\n",
            "Unpacking objects: 100% (87/87), done.\n"
          ],
          "name": "stdout"
        }
      ]
    },
    {
      "cell_type": "code",
      "metadata": {
        "id": "8GuZXzutmXTU",
        "colab_type": "code",
        "colab": {
          "base_uri": "https://localhost:8080/",
          "height": 54
        },
        "outputId": "90a6a62e-8c35-4c51-8cc7-6ed235813c57"
      },
      "source": [
        "!pip install python-copasi\n",
        "%cd /content/euCovid-travel-model/generating"
      ],
      "execution_count": 11,
      "outputs": [
        {
          "output_type": "stream",
          "text": [
            "Requirement already satisfied: python-copasi in /usr/local/lib/python3.6/dist-packages (4.28.226)\n",
            "/content/euCovid-travel-model/generating\n"
          ],
          "name": "stdout"
        }
      ]
    },
    {
      "cell_type": "code",
      "metadata": {
        "id": "fbL6xOwwV29W",
        "colab_type": "code",
        "colab": {}
      },
      "source": [
        "!mv /content/euCovid-travel-model/EU_expand_model.py /content/euCovid-travel-model/generating"
      ],
      "execution_count": 9,
      "outputs": []
    },
    {
      "cell_type": "code",
      "metadata": {
        "id": "a4F9BjYJnB8s",
        "colab_type": "code",
        "colab": {
          "base_uri": "https://localhost:8080/",
          "height": 368
        },
        "outputId": "0fcff0b6-9b2c-4199-e2f9-a98802568813"
      },
      "source": [
        "!python /content/euCovid-travel-model/generating/EU_expand_model.py /content/euCovid-travel-model/generating/SEIR_base.cps eu_usa.cps"
      ],
      "execution_count": 14,
      "outputs": [
        {
          "output_type": "stream",
          "text": [
            "abrev: {'GR': 0, 'IT': 1, 'BU': 2}\n",
            "tcmalloc: large alloc 1449377792 bytes == 0x1e54000 @  0x7f75c2b22001 0x582743 0x582af3 0x50d164 0x507d64 0x509a90 0x50a48d 0x50bfb4 0x507d64 0x50ae13 0x634c82 0x634d37 0x6384ef 0x639091 0x4b0d00 0x7f75c271db97 0x5b250a\n",
            "compartment name =  COVID_GR\n",
            "state_abrev =  GR\n",
            "GR 0\n",
            "state flux =  [{0: 0.1, 1: 0.005, 2: 0.01}, {0: 0.1, 1: 0.0001, 2: 0.002}]\n",
            "compartment name =  COVID_IT\n",
            "state_abrev =  IT\n",
            "IT 1\n",
            "state flux =  [{0: 0.0001, 1: 0.02, 2: 0.0025}, {0: 0.005, 1: 0.02, 2: 0.0005}]\n",
            "compartment name =  COVID_BU\n",
            "state_abrev =  BU\n",
            "BU 2\n",
            "state flux =  [{0: 0.002, 1: 0.0005, 2: 0.006666666666666667}, {0: 0.01, 1: 0.0025, 2: 0.006666666666666667}]\n",
            "Number of assigments = 12\n",
            "\n",
            "Number of assigments = 12\n",
            "\n"
          ],
          "name": "stdout"
        }
      ]
    },
    {
      "cell_type": "code",
      "metadata": {
        "id": "qvtEpCQ3g1wl",
        "colab_type": "code",
        "colab": {
          "base_uri": "https://localhost:8080/",
          "height": 182
        },
        "outputId": "e03a2028-3610-4552-b6a3-d4cf22943ad0"
      },
      "source": [
        "%cd /content/\n",
        "!kaggle datasets download -d shahules/european-countries-population"
      ],
      "execution_count": 15,
      "outputs": [
        {
          "output_type": "stream",
          "text": [
            "/content\n",
            "Traceback (most recent call last):\n",
            "  File \"/usr/local/bin/kaggle\", line 5, in <module>\n",
            "    from kaggle.cli import main\n",
            "  File \"/usr/local/lib/python2.7/dist-packages/kaggle/__init__.py\", line 23, in <module>\n",
            "    api.authenticate()\n",
            "  File \"/usr/local/lib/python2.7/dist-packages/kaggle/api/kaggle_api_extended.py\", line 146, in authenticate\n",
            "    self.config_file, self.config_dir))\n",
            "IOError: Could not find kaggle.json. Make sure it's located in /root/.kaggle. Or use the environment method.\n"
          ],
          "name": "stdout"
        }
      ]
    },
    {
      "cell_type": "code",
      "metadata": {
        "id": "K5Y4ajr_gBz4",
        "colab_type": "code",
        "colab": {
          "base_uri": "https://localhost:8080/",
          "height": 313
        },
        "outputId": "31d5d995-24dd-404a-8171-20bfe56c68b7"
      },
      "source": [
        "%matplotlib inline\n",
        "import matplotlib.pyplot as plt\n",
        "import sys\n",
        "import os\n",
        "import numpy as np\n",
        "import pandas as pd\n",
        "from sklearn import datasets, linear_model\n",
        "from random import sample \n",
        "from google.colab import drive\n",
        "\n",
        "def bash_collect_data():\n",
        "  sys.path.append('/usr/local/lib/python3.7/site-packages/')\n",
        "  drive.mount('/content/drive')\n",
        "  os.environ['KAGGLE_CONFIG_DIR'] = \"/content/drive/My Drive/Colab Notebooks/.kaggle/\"\n",
        "  !kaggle datasets download -d sudalairajkumar/novel-corona-virus-2019-dataset\n",
        "  !kaggle datasets download -d duvallwh/us-asia-and-europe-population-and-area-data\n",
        "  !unzip /content/european-countries-population.zip\n",
        "  !unzip /content/novel-corona-virus-2019-dataset.zip\n",
        "  !unzip /content/us-asia-and-europe-population-and-area-data.zip\n",
        "\n",
        "\n",
        "def PopsAreas2dict(fn='/content/area_pop_data.csv'):\n",
        "    df = pd.read_csv(fn)\n",
        "    df = df[df['region'] == 'Europe']\n",
        "    print(df.columns)\n",
        "    areas = {}\n",
        "    pops = {}\n",
        "    for row in df.iterrows():\n",
        "      name = row[1]['country'].upper()\n",
        "      name = name.split(' ')[0]\n",
        "      area = row[1]['area_km']\n",
        "      pop = row[1]['population']\n",
        "      if name not in areas.keys():\n",
        "        areas[name] = area\n",
        "        pops[name] = pop\n",
        "      else:\n",
        "        areas[name] += area \n",
        "        pops[name] += pop\n",
        "    return pops,areas\n",
        "\n",
        "def CovidCountry(fn,countries):\n",
        "  df = pd.read_csv(fn)\n",
        "  df = df.drop(labels=['Lat','Long'],axis='columns')\n",
        "  df['lastmonth'] = df[df.columns[-30:]].sum(axis=1) \n",
        "  infected = {}\n",
        "  for row in df.iterrows():\n",
        "    name = row[1]['Country/Region'].upper()\n",
        "    name = name.split(' ')[0]\n",
        "    confirmed = row[1]['lastmonth']\n",
        "    if name not in countries:\n",
        "      continue\n",
        "    if name not in infected.keys():\n",
        "      infected[name] = confirmed\n",
        "    else:\n",
        "      infected[name] += confirmed\n",
        "  return infected\n",
        "\n",
        "def CountryTravel(fn):\n",
        "  \n",
        "\n",
        "\n",
        "#bash_collect_data()\n",
        "\n",
        "pops,areas =  PopsAreas2dict('/content/area_pop_data.csv')\n",
        "#print(pops)\n",
        "EUcountries = pops.keys()\n",
        "print(pops.keys())\n",
        "infected = CovidCountry(fn='/content/time_series_covid_19_confirmed.csv',countries=EUcountries)\n"
      ],
      "execution_count": 53,
      "outputs": [
        {
          "output_type": "stream",
          "text": [
            "Index(['Unnamed: 0', 'region', 'country', 'province', 'area_km', 'population'], dtype='object')\n",
            "dict_keys(['ALBANIA', 'ANDORRA', 'ARMENIA', 'AUSTRIA', 'AZERBAIJAN', 'BELARUS', 'BELGIUM', 'BOSNIA', 'BULGARIA', 'CROATIA', 'CYPRUS', 'CZECH', 'DENMARK', 'ESTONIA', 'FAROE', 'FINLAND', 'FRANCE', 'GEORGIA', 'GERMANY', 'GIBRALTAR', 'GREECE', 'GUERNSEY', 'HUNGARY', 'ICELAND', 'REPUBLIC', 'ISLE', 'ITALY', 'JERSEY', 'KAZAKHSTAN', 'KOSOVO', 'LATVIA', 'LIECHTENSTEIN', 'LITHUANIA', 'LUXEMBOURG', 'MALTA', 'MOLDOVA', 'MONACO', 'MONTENEGRO', 'NETHERLANDS', 'NORTH', 'NORWAY', 'POLAND', 'PORTUGAL', 'ROMANIA', 'RUSSIA', 'SAN', 'SERBIA', 'SLOVAKIA', 'SLOVENIA', 'SPAIN', 'MAYEN', 'SWEDEN', 'SWITZERLAND', 'TRANSNISTRIA', 'TURKEY', 'UKRAINE', 'UNITED', 'VATICAN', 'ÅLAND'])\n",
            "0      717859\n",
            "1       48138\n",
            "2      329002\n",
            "3       25329\n",
            "4        4270\n",
            "        ...  \n",
            "261     18400\n",
            "262     21611\n",
            "263      5598\n",
            "264    148233\n",
            "265       222\n",
            "Name: lastmonth, Length: 266, dtype: int64\n",
            "dict_keys(['ALBANIA', 'ANDORRA', 'ARMENIA', 'AUSTRIA', 'AZERBAIJAN', 'BELARUS', 'BELGIUM', 'BOSNIA', 'BULGARIA', 'CROATIA', 'CYPRUS', 'DENMARK', 'ESTONIA', 'FINLAND', 'FRANCE', 'GEORGIA', 'GERMANY', 'GREECE', 'HUNGARY', 'ICELAND', 'ITALY', 'KAZAKHSTAN', 'LATVIA', 'LIECHTENSTEIN', 'LITHUANIA', 'LUXEMBOURG', 'MALTA', 'MOLDOVA', 'MONACO', 'MONTENEGRO', 'NETHERLANDS', 'NORTH', 'NORWAY', 'POLAND', 'PORTUGAL', 'ROMANIA', 'RUSSIA', 'SAN', 'SERBIA', 'SLOVAKIA', 'SLOVENIA', 'SPAIN', 'SWEDEN', 'SWITZERLAND', 'TURKEY', 'UKRAINE', 'UNITED', 'KOSOVO'])\n"
          ],
          "name": "stdout"
        }
      ]
    },
    {
      "cell_type": "code",
      "metadata": {
        "id": "PgdxOWe9iLaA",
        "colab_type": "code",
        "colab": {}
      },
      "source": [
        ""
      ],
      "execution_count": null,
      "outputs": []
    }
  ]
}